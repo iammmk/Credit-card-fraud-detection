{
 "cells": [
  {
   "cell_type": "code",
   "execution_count": 1,
   "metadata": {},
   "outputs": [],
   "source": [
    "# Credit Card Fraud Detection"
   ]
  },
  {
   "cell_type": "code",
   "execution_count": 2,
   "metadata": {},
   "outputs": [],
   "source": [
    "# importing libraries\n",
    "import numpy as np\n",
    "import pandas as pd\n",
    "import matplotlib.pyplot as plt\n",
    "import seaborn as sns"
   ]
  },
  {
   "cell_type": "code",
   "execution_count": 3,
   "metadata": {},
   "outputs": [],
   "source": [
    "# importing dataset\n",
    "df=pd.read_csv('C:/Users/Mahabub M Khan/OneDrive/Desktop/ML/Credit Card Fraud Detection/creditcard.csv')"
   ]
  },
  {
   "cell_type": "code",
   "execution_count": 4,
   "metadata": {},
   "outputs": [
    {
     "data": {
      "text/html": [
       "<div>\n",
       "<style scoped>\n",
       "    .dataframe tbody tr th:only-of-type {\n",
       "        vertical-align: middle;\n",
       "    }\n",
       "\n",
       "    .dataframe tbody tr th {\n",
       "        vertical-align: top;\n",
       "    }\n",
       "\n",
       "    .dataframe thead th {\n",
       "        text-align: right;\n",
       "    }\n",
       "</style>\n",
       "<table border=\"1\" class=\"dataframe\">\n",
       "  <thead>\n",
       "    <tr style=\"text-align: right;\">\n",
       "      <th></th>\n",
       "      <th>Time</th>\n",
       "      <th>V1</th>\n",
       "      <th>V2</th>\n",
       "      <th>V3</th>\n",
       "      <th>V4</th>\n",
       "      <th>V5</th>\n",
       "      <th>V6</th>\n",
       "      <th>V7</th>\n",
       "      <th>V8</th>\n",
       "      <th>V9</th>\n",
       "      <th>...</th>\n",
       "      <th>V21</th>\n",
       "      <th>V22</th>\n",
       "      <th>V23</th>\n",
       "      <th>V24</th>\n",
       "      <th>V25</th>\n",
       "      <th>V26</th>\n",
       "      <th>V27</th>\n",
       "      <th>V28</th>\n",
       "      <th>Amount</th>\n",
       "      <th>Class</th>\n",
       "    </tr>\n",
       "  </thead>\n",
       "  <tbody>\n",
       "    <tr>\n",
       "      <th>0</th>\n",
       "      <td>0.0</td>\n",
       "      <td>-1.359807</td>\n",
       "      <td>-0.072781</td>\n",
       "      <td>2.536347</td>\n",
       "      <td>1.378155</td>\n",
       "      <td>-0.338321</td>\n",
       "      <td>0.462388</td>\n",
       "      <td>0.239599</td>\n",
       "      <td>0.098698</td>\n",
       "      <td>0.363787</td>\n",
       "      <td>...</td>\n",
       "      <td>-0.018307</td>\n",
       "      <td>0.277838</td>\n",
       "      <td>-0.110474</td>\n",
       "      <td>0.066928</td>\n",
       "      <td>0.128539</td>\n",
       "      <td>-0.189115</td>\n",
       "      <td>0.133558</td>\n",
       "      <td>-0.021053</td>\n",
       "      <td>149.62</td>\n",
       "      <td>0</td>\n",
       "    </tr>\n",
       "    <tr>\n",
       "      <th>1</th>\n",
       "      <td>0.0</td>\n",
       "      <td>1.191857</td>\n",
       "      <td>0.266151</td>\n",
       "      <td>0.166480</td>\n",
       "      <td>0.448154</td>\n",
       "      <td>0.060018</td>\n",
       "      <td>-0.082361</td>\n",
       "      <td>-0.078803</td>\n",
       "      <td>0.085102</td>\n",
       "      <td>-0.255425</td>\n",
       "      <td>...</td>\n",
       "      <td>-0.225775</td>\n",
       "      <td>-0.638672</td>\n",
       "      <td>0.101288</td>\n",
       "      <td>-0.339846</td>\n",
       "      <td>0.167170</td>\n",
       "      <td>0.125895</td>\n",
       "      <td>-0.008983</td>\n",
       "      <td>0.014724</td>\n",
       "      <td>2.69</td>\n",
       "      <td>0</td>\n",
       "    </tr>\n",
       "    <tr>\n",
       "      <th>2</th>\n",
       "      <td>1.0</td>\n",
       "      <td>-1.358354</td>\n",
       "      <td>-1.340163</td>\n",
       "      <td>1.773209</td>\n",
       "      <td>0.379780</td>\n",
       "      <td>-0.503198</td>\n",
       "      <td>1.800499</td>\n",
       "      <td>0.791461</td>\n",
       "      <td>0.247676</td>\n",
       "      <td>-1.514654</td>\n",
       "      <td>...</td>\n",
       "      <td>0.247998</td>\n",
       "      <td>0.771679</td>\n",
       "      <td>0.909412</td>\n",
       "      <td>-0.689281</td>\n",
       "      <td>-0.327642</td>\n",
       "      <td>-0.139097</td>\n",
       "      <td>-0.055353</td>\n",
       "      <td>-0.059752</td>\n",
       "      <td>378.66</td>\n",
       "      <td>0</td>\n",
       "    </tr>\n",
       "    <tr>\n",
       "      <th>3</th>\n",
       "      <td>1.0</td>\n",
       "      <td>-0.966272</td>\n",
       "      <td>-0.185226</td>\n",
       "      <td>1.792993</td>\n",
       "      <td>-0.863291</td>\n",
       "      <td>-0.010309</td>\n",
       "      <td>1.247203</td>\n",
       "      <td>0.237609</td>\n",
       "      <td>0.377436</td>\n",
       "      <td>-1.387024</td>\n",
       "      <td>...</td>\n",
       "      <td>-0.108300</td>\n",
       "      <td>0.005274</td>\n",
       "      <td>-0.190321</td>\n",
       "      <td>-1.175575</td>\n",
       "      <td>0.647376</td>\n",
       "      <td>-0.221929</td>\n",
       "      <td>0.062723</td>\n",
       "      <td>0.061458</td>\n",
       "      <td>123.50</td>\n",
       "      <td>0</td>\n",
       "    </tr>\n",
       "    <tr>\n",
       "      <th>4</th>\n",
       "      <td>2.0</td>\n",
       "      <td>-1.158233</td>\n",
       "      <td>0.877737</td>\n",
       "      <td>1.548718</td>\n",
       "      <td>0.403034</td>\n",
       "      <td>-0.407193</td>\n",
       "      <td>0.095921</td>\n",
       "      <td>0.592941</td>\n",
       "      <td>-0.270533</td>\n",
       "      <td>0.817739</td>\n",
       "      <td>...</td>\n",
       "      <td>-0.009431</td>\n",
       "      <td>0.798278</td>\n",
       "      <td>-0.137458</td>\n",
       "      <td>0.141267</td>\n",
       "      <td>-0.206010</td>\n",
       "      <td>0.502292</td>\n",
       "      <td>0.219422</td>\n",
       "      <td>0.215153</td>\n",
       "      <td>69.99</td>\n",
       "      <td>0</td>\n",
       "    </tr>\n",
       "  </tbody>\n",
       "</table>\n",
       "<p>5 rows × 31 columns</p>\n",
       "</div>"
      ],
      "text/plain": [
       "   Time        V1        V2        V3        V4        V5        V6        V7  \\\n",
       "0   0.0 -1.359807 -0.072781  2.536347  1.378155 -0.338321  0.462388  0.239599   \n",
       "1   0.0  1.191857  0.266151  0.166480  0.448154  0.060018 -0.082361 -0.078803   \n",
       "2   1.0 -1.358354 -1.340163  1.773209  0.379780 -0.503198  1.800499  0.791461   \n",
       "3   1.0 -0.966272 -0.185226  1.792993 -0.863291 -0.010309  1.247203  0.237609   \n",
       "4   2.0 -1.158233  0.877737  1.548718  0.403034 -0.407193  0.095921  0.592941   \n",
       "\n",
       "         V8        V9  ...       V21       V22       V23       V24       V25  \\\n",
       "0  0.098698  0.363787  ... -0.018307  0.277838 -0.110474  0.066928  0.128539   \n",
       "1  0.085102 -0.255425  ... -0.225775 -0.638672  0.101288 -0.339846  0.167170   \n",
       "2  0.247676 -1.514654  ...  0.247998  0.771679  0.909412 -0.689281 -0.327642   \n",
       "3  0.377436 -1.387024  ... -0.108300  0.005274 -0.190321 -1.175575  0.647376   \n",
       "4 -0.270533  0.817739  ... -0.009431  0.798278 -0.137458  0.141267 -0.206010   \n",
       "\n",
       "        V26       V27       V28  Amount  Class  \n",
       "0 -0.189115  0.133558 -0.021053  149.62      0  \n",
       "1  0.125895 -0.008983  0.014724    2.69      0  \n",
       "2 -0.139097 -0.055353 -0.059752  378.66      0  \n",
       "3 -0.221929  0.062723  0.061458  123.50      0  \n",
       "4  0.502292  0.219422  0.215153   69.99      0  \n",
       "\n",
       "[5 rows x 31 columns]"
      ]
     },
     "execution_count": 4,
     "metadata": {},
     "output_type": "execute_result"
    }
   ],
   "source": [
    "df.head()"
   ]
  },
  {
   "cell_type": "code",
   "execution_count": 5,
   "metadata": {},
   "outputs": [
    {
     "data": {
      "text/plain": [
       "(284807, 31)"
      ]
     },
     "execution_count": 5,
     "metadata": {},
     "output_type": "execute_result"
    }
   ],
   "source": [
    "# dataset shape\n",
    "df.shape"
   ]
  },
  {
   "cell_type": "code",
   "execution_count": 6,
   "metadata": {},
   "outputs": [
    {
     "name": "stdout",
     "output_type": "stream",
     "text": [
      "<class 'pandas.core.frame.DataFrame'>\n",
      "RangeIndex: 284807 entries, 0 to 284806\n",
      "Data columns (total 31 columns):\n",
      "Time      284807 non-null float64\n",
      "V1        284807 non-null float64\n",
      "V2        284807 non-null float64\n",
      "V3        284807 non-null float64\n",
      "V4        284807 non-null float64\n",
      "V5        284807 non-null float64\n",
      "V6        284807 non-null float64\n",
      "V7        284807 non-null float64\n",
      "V8        284807 non-null float64\n",
      "V9        284807 non-null float64\n",
      "V10       284807 non-null float64\n",
      "V11       284807 non-null float64\n",
      "V12       284807 non-null float64\n",
      "V13       284807 non-null float64\n",
      "V14       284807 non-null float64\n",
      "V15       284807 non-null float64\n",
      "V16       284807 non-null float64\n",
      "V17       284807 non-null float64\n",
      "V18       284807 non-null float64\n",
      "V19       284807 non-null float64\n",
      "V20       284807 non-null float64\n",
      "V21       284807 non-null float64\n",
      "V22       284807 non-null float64\n",
      "V23       284807 non-null float64\n",
      "V24       284807 non-null float64\n",
      "V25       284807 non-null float64\n",
      "V26       284807 non-null float64\n",
      "V27       284807 non-null float64\n",
      "V28       284807 non-null float64\n",
      "Amount    284807 non-null float64\n",
      "Class     284807 non-null int64\n",
      "dtypes: float64(30), int64(1)\n",
      "memory usage: 67.4 MB\n"
     ]
    }
   ],
   "source": [
    "df.info()"
   ]
  },
  {
   "cell_type": "code",
   "execution_count": 7,
   "metadata": {},
   "outputs": [
    {
     "data": {
      "text/plain": [
       "False"
      ]
     },
     "execution_count": 7,
     "metadata": {},
     "output_type": "execute_result"
    }
   ],
   "source": [
    "# checking null values( if any)\n",
    "df.isnull().sum().any()"
   ]
  },
  {
   "cell_type": "code",
   "execution_count": 8,
   "metadata": {},
   "outputs": [
    {
     "data": {
      "text/plain": [
       "count    284807.000000\n",
       "mean      94813.859575\n",
       "std       47488.145955\n",
       "min           0.000000\n",
       "25%       54201.500000\n",
       "50%       84692.000000\n",
       "75%      139320.500000\n",
       "max      172792.000000\n",
       "Name: Time, dtype: float64"
      ]
     },
     "execution_count": 8,
     "metadata": {},
     "output_type": "execute_result"
    }
   ],
   "source": [
    "# Time analysis\n",
    "df.Time.describe()"
   ]
  },
  {
   "cell_type": "code",
   "execution_count": 10,
   "metadata": {},
   "outputs": [
    {
     "data": {
      "image/png": "[encoded data removed]",
      "text/plain": [
       "<Figure size 432x288 with 1 Axes>"
      ]
     },
     "metadata": {
      "needs_background": "light"
     },
     "output_type": "display_data"
    }
   ],
   "source": [
    "plt.Figure(figsize=(10,8))\n",
    "sns.distplot(df[df.Class==0].Time/(60*60),label='valid')\n",
    "sns.distplot(df[df.Class==1].Time/(60*60),label='fraud')\n",
    "plt.legend(loc='upper right')\n",
    "plt.xlabel('Time in hours')\n",
    "plt.title('Time distribution of transactions')\n",
    "plt.show()"
   ]
  },
  {
   "cell_type": "code",
   "execution_count": 11,
   "metadata": {},
   "outputs": [
    {
     "data": {
      "image/png": "[encoded data removed]",
      "text/plain": [
       "<Figure size 432x288 with 1 Axes>"
      ]
     },
     "metadata": {
      "needs_background": "light"
     },
     "output_type": "display_data"
    }
   ],
   "source": [
    "plt.scatter((df[df.Class==0].Time/(60*60)), df[df.Class==0].Amount,\n",
    "            alpha=0.6,label='Non-Fraud')\n",
    "plt.scatter((df[df.Class==1].Time/(60*60)), df[df.Class==1].Amount, \n",
    "            alpha=0.9, label='Fraud')\n",
    "plt.title(\"Amount of transaction by hour\")\n",
    "plt.xlabel(\"Transaction time as measured from first transaction in the dataset (hours)\")\n",
    "plt.ylabel('Amount (USD)')\n",
    "plt.legend(loc='upper right')\n",
    "plt.show()"
   ]
  },
  {
   "cell_type": "code",
   "execution_count": 12,
   "metadata": {},
   "outputs": [
    {
     "data": {
      "text/plain": [
       "0    284315\n",
       "1       492\n",
       "Name: Class, dtype: int64"
      ]
     },
     "execution_count": 12,
     "metadata": {},
     "output_type": "execute_result"
    }
   ],
   "source": [
    "# Class column analysis\n",
    "df.Class.value_counts()"
   ]
  },
  {
   "cell_type": "code",
   "execution_count": 13,
   "metadata": {},
   "outputs": [
    {
     "data": {
      "image/png": "[encoded data removed]",
      "text/plain": [
       "<Figure size 504x504 with 1 Axes>"
      ]
     },
     "metadata": {},
     "output_type": "display_data"
    }
   ],
   "source": [
    "df.Class.value_counts()\n",
    "# Class column Visualisation\n",
    "labels= df.Class.value_counts().index\n",
    "values=df.Class.value_counts().values\n",
    "explode=[0.1,0]\n",
    "plt.figure(figsize=(7,7))\n",
    "plt.pie(values,explode=explode,labels=labels,shadow=True,autopct='%1.1f%%')\n",
    "plt.title('Fraud Transaction analysis',color='black',fontsize=10)\n",
    "plt.show()"
   ]
  },
  {
   "cell_type": "code",
   "execution_count": 14,
   "metadata": {},
   "outputs": [
    {
     "data": {
      "text/plain": [
       "count    284807.000000\n",
       "mean         88.349619\n",
       "std         250.120109\n",
       "min           0.000000\n",
       "25%           5.600000\n",
       "50%          22.000000\n",
       "75%          77.165000\n",
       "max       25691.160000\n",
       "Name: Amount, dtype: float64"
      ]
     },
     "execution_count": 14,
     "metadata": {},
     "output_type": "execute_result"
    }
   ],
   "source": [
    "# Amount analysis\n",
    "df.Amount.describe()"
   ]
  },
  {
   "cell_type": "code",
   "execution_count": 15,
   "metadata": {},
   "outputs": [
    {
     "data": {
      "text/plain": [
       "<matplotlib.axes._subplots.AxesSubplot at 0x24fa6c1b278>"
      ]
     },
     "execution_count": 15,
     "metadata": {},
     "output_type": "execute_result"
    },
    {
     "data": {
      "image/png": "[encoded data removed]",
      "text/plain": [
       "<Figure size 432x288 with 1 Axes>"
      ]
     },
     "metadata": {
      "needs_background": "light"
     },
     "output_type": "display_data"
    }
   ],
   "source": [
    "sns.distplot(df.Amount)"
   ]
  },
  {
   "cell_type": "code",
   "execution_count": 16,
   "metadata": {},
   "outputs": [
    {
     "name": "stdout",
     "output_type": "stream",
     "text": [
      "Amount details of fraud transaction:\n",
      " count     492.000000\n",
      "mean      122.211321\n",
      "std       256.683288\n",
      "min         0.000000\n",
      "25%         1.000000\n",
      "50%         9.250000\n",
      "75%       105.890000\n",
      "max      2125.870000\n",
      "Name: Amount, dtype: float64\n",
      "Amount details of valid transaction:\n",
      " count    284315.000000\n",
      "mean         88.291022\n",
      "std         250.105092\n",
      "min           0.000000\n",
      "25%           5.650000\n",
      "50%          22.000000\n",
      "75%          77.050000\n",
      "max       25691.160000\n",
      "Name: Amount, dtype: float64\n"
     ]
    }
   ],
   "source": [
    "# Amount vs Class\n",
    "print('Amount details of fraud transaction:\\n',\n",
    "      df[df.Class==1].Amount.describe())\n",
    "print('Amount details of valid transaction:\\n',\n",
    "      df[df.Class==0].Amount.describe())"
   ]
  },
  {
   "cell_type": "code",
   "execution_count": 17,
   "metadata": {},
   "outputs": [
    {
     "data": {
      "image/png": "[encoded data removed]",
      "text/plain": [
       "<Figure size 432x288 with 1 Axes>"
      ]
     },
     "metadata": {
      "needs_background": "light"
     },
     "output_type": "display_data"
    }
   ],
   "source": [
    "# Visualisation-1\n",
    "plt.Figure(figsize=(15,10))\n",
    "sns.scatterplot(df.Amount,df.Class)\n",
    "plt.title('Amount vs Class')\n",
    "plt.show()"
   ]
  },
  {
   "cell_type": "code",
   "execution_count": 18,
   "metadata": {},
   "outputs": [
    {
     "name": "stderr",
     "output_type": "stream",
     "text": [
      "C:\\Users\\Mahabub M Khan\\Anaconda3\\lib\\site-packages\\matplotlib\\axes\\_axes.py:6462: UserWarning: The 'normed' kwarg is deprecated, and has been replaced by the 'density' kwarg.\n",
      "  warnings.warn(\"The 'normed' kwarg is deprecated, and has been \"\n"
     ]
    },
    {
     "data": {
      "image/png": "[encoded data removed]",
      "text/plain": [
       "<Figure size 432x288 with 1 Axes>"
      ]
     },
     "metadata": {
      "needs_background": "light"
     },
     "output_type": "display_data"
    }
   ],
   "source": [
    "# Visualisation-2\n",
    "bins = np.linspace(200, 2000, 100)\n",
    "plt.hist(df[df.Class==0].Amount, bins, alpha=1, normed=True, label='Non-Fraud')\n",
    "plt.hist(df[df.Class==1].Amount, bins, alpha=1, normed=True, label='Fraud')\n",
    "plt.legend(loc='upper right')\n",
    "plt.title(\"Amount by percentage of transactions (transactions \\$200-$2000)\")\n",
    "plt.xlabel(\"Transaction amount (USD)\")\n",
    "plt.ylabel(\"Percentage of transactions (%)\")\n",
    "plt.show()"
   ]
  },
  {
   "cell_type": "code",
   "execution_count": 19,
   "metadata": {},
   "outputs": [],
   "source": [
    "# Correlation matrix\n",
    "corr= df.corr()"
   ]
  },
  {
   "cell_type": "code",
   "execution_count": 21,
   "metadata": {},
   "outputs": [
    {
     "data": {
      "image/png": "[encoded data removed]",
      "text/plain": [
       "<Figure size 432x288 with 2 Axes>"
      ]
     },
     "metadata": {
      "needs_background": "light"
     },
     "output_type": "display_data"
    }
   ],
   "source": [
    "# heatmap of corrmat.\n",
    "plt.Figure(figsize=(15,15))\n",
    "sns.heatmap(corr,vmax=0.8,square=True)\n",
    "plt.show()"
   ]
  },
  {
   "cell_type": "code",
   "execution_count": 22,
   "metadata": {},
   "outputs": [
    {
     "data": {
      "image/png": "[encoded data removed]",
      "text/plain": [
       "<Figure size 432x288 with 1 Axes>"
      ]
     },
     "metadata": {
      "needs_background": "light"
     },
     "output_type": "display_data"
    }
   ],
   "source": [
    "# Correlation with class\n",
    "x= corr['Class'].index\n",
    "y= corr.Class.values\n",
    "plt.Figure(figsize=(15,10))\n",
    "sns.barplot(x=x,y=y)\n",
    "plt.xlabel('columns')\n",
    "plt.ylabel('Correlation')\n",
    "plt.title('Correlation with Class column')\n",
    "plt.show()"
   ]
  },
  {
   "cell_type": "code",
   "execution_count": 23,
   "metadata": {},
   "outputs": [],
   "source": [
    "# X and y separatin\n",
    "X=df.drop(['Class'],axis=1)\n",
    "y=df['Class']"
   ]
  },
  {
   "cell_type": "code",
   "execution_count": 24,
   "metadata": {},
   "outputs": [
    {
     "name": "stdout",
     "output_type": "stream",
     "text": [
      "(284807, 30)\n",
      "(284807,)\n"
     ]
    }
   ],
   "source": [
    "print(X.shape)\n",
    "print(y.shape)"
   ]
  },
  {
   "cell_type": "code",
   "execution_count": 25,
   "metadata": {},
   "outputs": [],
   "source": [
    "# Feature Scaling\n",
    "from sklearn.preprocessing import StandardScaler\n",
    "sc = StandardScaler()\n",
    "X= sc.fit_transform(X)"
   ]
  },
  {
   "cell_type": "code",
   "execution_count": 26,
   "metadata": {},
   "outputs": [
    {
     "name": "stdout",
     "output_type": "stream",
     "text": [
      "Normalized X: [[-1.99658302 -0.69424232 -0.04407492 ...  0.33089162 -0.06378115\n",
      "   0.24496426]\n",
      " [-1.99658302  0.60849633  0.16117592 ... -0.02225568  0.04460752\n",
      "  -0.34247454]\n",
      " [-1.99656197 -0.69350046 -0.81157783 ... -0.13713686 -0.18102083\n",
      "   1.16068593]\n",
      " ...\n",
      " [ 1.6419735   0.98002374 -0.18243372 ...  0.01103672 -0.0804672\n",
      "  -0.0818393 ]\n",
      " [ 1.6419735  -0.12275539  0.32125034 ...  0.26960398  0.31668678\n",
      "  -0.31324853]\n",
      " [ 1.64205773 -0.27233093 -0.11489898 ... -0.00598394  0.04134999\n",
      "   0.51435531]]\n"
     ]
    }
   ],
   "source": [
    "print('Normalized X:',X)"
   ]
  },
  {
   "cell_type": "code",
   "execution_count": 27,
   "metadata": {},
   "outputs": [],
   "source": [
    "# Splitting the dataset into the Training set and Test set\n",
    "from sklearn.model_selection import train_test_split\n",
    "X_train, X_test, y_train, y_test = train_test_split(X, y, \n",
    "                                                    test_size = 0.2, \n",
    "                                                    random_state = 0)"
   ]
  },
  {
   "cell_type": "code",
   "execution_count": 28,
   "metadata": {},
   "outputs": [
    {
     "name": "stdout",
     "output_type": "stream",
     "text": [
      "Shape of X_train: (227845, 30)\n",
      "Shape of X_test: (56962, 30)\n",
      "Shape of y_train: (227845,)\n",
      "Shape of y_test: (56962,)\n"
     ]
    }
   ],
   "source": [
    "print('Shape of X_train:', X_train.shape)\n",
    "print('Shape of X_test:', X_test.shape)\n",
    "print('Shape of y_train:', y_train.shape)\n",
    "print('Shape of y_test:', y_test.shape)"
   ]
  },
  {
   "cell_type": "code",
   "execution_count": 29,
   "metadata": {},
   "outputs": [
    {
     "data": {
      "text/plain": [
       "RandomForestClassifier(bootstrap=True, class_weight=None, criterion='entropy',\n",
       "                       max_depth=None, max_features='auto', max_leaf_nodes=None,\n",
       "                       min_impurity_decrease=0.0, min_impurity_split=None,\n",
       "                       min_samples_leaf=1, min_samples_split=2,\n",
       "                       min_weight_fraction_leaf=0.0, n_estimators=100,\n",
       "                       n_jobs=None, oob_score=False, random_state=0, verbose=0,\n",
       "                       warm_start=False)"
      ]
     },
     "execution_count": 29,
     "metadata": {},
     "output_type": "execute_result"
    }
   ],
   "source": [
    "# Model-1\n",
    "# Fitting Random Forest Classification to the Training set\n",
    "from sklearn.ensemble import RandomForestClassifier\n",
    "classifier = RandomForestClassifier(n_estimators = 100,criterion ='entropy', \n",
    "                                    random_state = 0)\n",
    "classifier.fit(X_train, y_train)"
   ]
  },
  {
   "cell_type": "code",
   "execution_count": 30,
   "metadata": {},
   "outputs": [],
   "source": [
    "# Predicting the Test set results\n",
    "y_pred = classifier.predict(X_test)"
   ]
  },
  {
   "cell_type": "code",
   "execution_count": 31,
   "metadata": {},
   "outputs": [],
   "source": [
    "# Result Evaluation\n",
    "# import libraries\n",
    "from sklearn.metrics import classification_report,accuracy_score  \n",
    "from sklearn.metrics import precision_score, recall_score \n",
    "from sklearn.metrics import f1_score\n",
    "from sklearn.metrics import confusion_matrix "
   ]
  },
  {
   "cell_type": "code",
   "execution_count": 32,
   "metadata": {},
   "outputs": [],
   "source": [
    "acc = accuracy_score(y_test, y_pred)\n",
    "prec = precision_score(y_test, y_pred)\n",
    "rec = recall_score(y_test, y_pred)\n",
    "f1 = f1_score(y_test, y_pred)"
   ]
  },
  {
   "cell_type": "code",
   "execution_count": 33,
   "metadata": {},
   "outputs": [
    {
     "name": "stdout",
     "output_type": "stream",
     "text": [
      "              precision    recall  f1-score   support\n",
      "\n",
      "           0       1.00      1.00      1.00     56861\n",
      "           1       0.93      0.79      0.86       101\n",
      "\n",
      "    accuracy                           1.00     56962\n",
      "   macro avg       0.96      0.90      0.93     56962\n",
      "weighted avg       1.00      1.00      1.00     56962\n",
      "\n"
     ]
    }
   ],
   "source": [
    "print(classification_report(y_test, y_pred))"
   ]
  },
  {
   "cell_type": "code",
   "execution_count": 34,
   "metadata": {},
   "outputs": [],
   "source": [
    "results= pd.DataFrame([['Random Forest',acc,prec,rec,f1]],\n",
    "                        columns=['Model','Accuracy score','Precision Score',\n",
    "                                 'Recall score','F1 score'])"
   ]
  },
  {
   "cell_type": "code",
   "execution_count": 35,
   "metadata": {},
   "outputs": [
    {
     "data": {
      "text/plain": [
       "XGBClassifier(base_score=0.5, booster='gbtree', colsample_bylevel=1,\n",
       "              colsample_bynode=1, colsample_bytree=1, gamma=0,\n",
       "              learning_rate=0.1, max_delta_step=0, max_depth=3,\n",
       "              min_child_weight=1, missing=None, n_estimators=100, n_jobs=1,\n",
       "              nthread=None, objective='binary:logistic', random_state=0,\n",
       "              reg_alpha=0, reg_lambda=1, scale_pos_weight=1, seed=None,\n",
       "              silent=None, subsample=1, verbosity=1)"
      ]
     },
     "execution_count": 35,
     "metadata": {},
     "output_type": "execute_result"
    }
   ],
   "source": [
    "# Model-2\n",
    "# Fitting XGBoost to the Training set\n",
    "from xgboost import XGBClassifier\n",
    "classifier = XGBClassifier()\n",
    "classifier.fit(X_train, y_train)"
   ]
  },
  {
   "cell_type": "code",
   "execution_count": 36,
   "metadata": {},
   "outputs": [],
   "source": [
    "# Predicting the Test set results\n",
    "y_pred = classifier.predict(X_test)"
   ]
  },
  {
   "cell_type": "code",
   "execution_count": 37,
   "metadata": {},
   "outputs": [],
   "source": [
    "# Evaluation\n",
    "acc = accuracy_score(y_test, y_pred)\n",
    "prec = precision_score(y_test, y_pred)\n",
    "rec = recall_score(y_test, y_pred)\n",
    "f1 = f1_score(y_test, y_pred)"
   ]
  },
  {
   "cell_type": "code",
   "execution_count": 38,
   "metadata": {},
   "outputs": [
    {
     "name": "stdout",
     "output_type": "stream",
     "text": [
      "              precision    recall  f1-score   support\n",
      "\n",
      "           0       1.00      1.00      1.00     56861\n",
      "           1       0.89      0.79      0.84       101\n",
      "\n",
      "    accuracy                           1.00     56962\n",
      "   macro avg       0.94      0.90      0.92     56962\n",
      "weighted avg       1.00      1.00      1.00     56962\n",
      "\n"
     ]
    }
   ],
   "source": [
    "print(classification_report(y_test, y_pred))"
   ]
  },
  {
   "cell_type": "code",
   "execution_count": 39,
   "metadata": {},
   "outputs": [],
   "source": [
    "result2= pd.DataFrame([['XGBoost',acc,prec,rec,f1]],\n",
    "                        columns=['Model','Accuracy score','Precision Score',\n",
    "                                 'Recall score','F1 score'])"
   ]
  },
  {
   "cell_type": "code",
   "execution_count": 40,
   "metadata": {},
   "outputs": [],
   "source": [
    "results=results.append(result2,ignore_index=True)"
   ]
  },
  {
   "cell_type": "code",
   "execution_count": 41,
   "metadata": {},
   "outputs": [
    {
     "name": "stderr",
     "output_type": "stream",
     "text": [
      "Using TensorFlow backend.\n"
     ]
    }
   ],
   "source": [
    "# Model-3\n",
    "# ANN\n",
    "# Importing libraries \n",
    "import keras\n",
    "from keras.models import Sequential\n",
    "from keras.layers import Dense"
   ]
  },
  {
   "cell_type": "code",
   "execution_count": 42,
   "metadata": {},
   "outputs": [
    {
     "name": "stdout",
     "output_type": "stream",
     "text": [
      "WARNING:tensorflow:From C:\\Users\\Mahabub M Khan\\Anaconda3\\lib\\site-packages\\tensorflow\\python\\ops\\resource_variable_ops.py:435: colocate_with (from tensorflow.python.framework.ops) is deprecated and will be removed in a future version.\n",
      "Instructions for updating:\n",
      "Colocations handled automatically by placer.\n"
     ]
    },
    {
     "name": "stderr",
     "output_type": "stream",
     "text": [
      "C:\\Users\\Mahabub M Khan\\Anaconda3\\lib\\site-packages\\ipykernel_launcher.py:5: UserWarning: Update your `Dense` call to the Keras 2 API: `Dense(activation=\"relu\", input_dim=30, units=15, kernel_initializer=\"uniform\")`\n",
      "  \"\"\"\n",
      "C:\\Users\\Mahabub M Khan\\Anaconda3\\lib\\site-packages\\ipykernel_launcher.py:7: UserWarning: Update your `Dense` call to the Keras 2 API: `Dense(activation=\"relu\", units=15, kernel_initializer=\"uniform\")`\n",
      "  import sys\n",
      "C:\\Users\\Mahabub M Khan\\Anaconda3\\lib\\site-packages\\ipykernel_launcher.py:9: UserWarning: Update your `Dense` call to the Keras 2 API: `Dense(activation=\"sigmoid\", units=1, kernel_initializer=\"uniform\")`\n",
      "  if __name__ == '__main__':\n"
     ]
    },
    {
     "name": "stdout",
     "output_type": "stream",
     "text": [
      "WARNING:tensorflow:From C:\\Users\\Mahabub M Khan\\Anaconda3\\lib\\site-packages\\tensorflow\\python\\ops\\math_ops.py:3066: to_int32 (from tensorflow.python.ops.math_ops) is deprecated and will be removed in a future version.\n",
      "Instructions for updating:\n",
      "Use tf.cast instead.\n"
     ]
    },
    {
     "name": "stderr",
     "output_type": "stream",
     "text": [
      "C:\\Users\\Mahabub M Khan\\Anaconda3\\lib\\site-packages\\ipykernel_launcher.py:14: UserWarning: The `nb_epoch` argument in `fit` has been renamed `epochs`.\n",
      "  \n"
     ]
    },
    {
     "name": "stdout",
     "output_type": "stream",
     "text": [
      "Epoch 1/100\n",
      "227845/227845 [==============================] - 11s 50us/step - loss: 0.0136 - accuracy: 0.9986\n",
      "Epoch 2/100\n",
      "227845/227845 [==============================] - 11s 50us/step - loss: 0.0034 - accuracy: 0.9994\n",
      "Epoch 3/100\n",
      "227845/227845 [==============================] - 10s 44us/step - loss: 0.0030 - accuracy: 0.9994\n",
      "Epoch 4/100\n",
      "227845/227845 [==============================] - 11s 47us/step - loss: 0.0028 - accuracy: 0.9994\n",
      "Epoch 5/100\n",
      "227845/227845 [==============================] - 10s 46us/step - loss: 0.0028 - accuracy: 0.9994\n",
      "Epoch 6/100\n",
      "227845/227845 [==============================] - 10s 45us/step - loss: 0.0027 - accuracy: 0.9994\n",
      "Epoch 7/100\n",
      "227845/227845 [==============================] - 10s 44us/step - loss: 0.0026 - accuracy: 0.9994\n",
      "Epoch 8/100\n",
      "227845/227845 [==============================] - 11s 46us/step - loss: 0.0026 - accuracy: 0.9994\n",
      "Epoch 9/100\n",
      "227845/227845 [==============================] - 11s 49us/step - loss: 0.0025 - accuracy: 0.9994\n",
      "Epoch 10/100\n",
      "227845/227845 [==============================] - 11s 49us/step - loss: 0.0025 - accuracy: 0.9995\n",
      "Epoch 11/100\n",
      "227845/227845 [==============================] - 11s 48us/step - loss: 0.0024 - accuracy: 0.9995\n",
      "Epoch 12/100\n",
      "227845/227845 [==============================] - 11s 48us/step - loss: 0.0024 - accuracy: 0.9995\n",
      "Epoch 13/100\n",
      "227845/227845 [==============================] - 11s 48us/step - loss: 0.0024 - accuracy: 0.9995\n",
      "Epoch 14/100\n",
      "227845/227845 [==============================] - 12s 52us/step - loss: 0.0023 - accuracy: 0.9995\n",
      "Epoch 15/100\n",
      "227845/227845 [==============================] - 12s 53us/step - loss: 0.0023 - accuracy: 0.9995\n",
      "Epoch 16/100\n",
      "227845/227845 [==============================] - 11s 47us/step - loss: 0.0023 - accuracy: 0.9995\n",
      "Epoch 17/100\n",
      "227845/227845 [==============================] - 12s 53us/step - loss: 0.0022 - accuracy: 0.9995\n",
      "Epoch 18/100\n",
      "227845/227845 [==============================] - 12s 51us/step - loss: 0.0022 - accuracy: 0.9995\n",
      "Epoch 19/100\n",
      "227845/227845 [==============================] - 11s 48us/step - loss: 0.0022 - accuracy: 0.9995\n",
      "Epoch 20/100\n",
      "227845/227845 [==============================] - 11s 48us/step - loss: 0.0022 - accuracy: 0.9995\n",
      "Epoch 21/100\n",
      "227845/227845 [==============================] - 11s 49us/step - loss: 0.0022 - accuracy: 0.9995\n",
      "Epoch 22/100\n",
      "227845/227845 [==============================] - 12s 55us/step - loss: 0.0022 - accuracy: 0.9995\n",
      "Epoch 23/100\n",
      "227845/227845 [==============================] - 12s 52us/step - loss: 0.0021 - accuracy: 0.9995\n",
      "Epoch 24/100\n",
      "227845/227845 [==============================] - 11s 46us/step - loss: 0.0021 - accuracy: 0.9995\n",
      "Epoch 25/100\n",
      "227845/227845 [==============================] - 12s 51us/step - loss: 0.0022 - accuracy: 0.9995\n",
      "Epoch 26/100\n",
      "227845/227845 [==============================] - 12s 53us/step - loss: 0.0022 - accuracy: 0.9995\n",
      "Epoch 27/100\n",
      "227845/227845 [==============================] - 12s 51us/step - loss: 0.0021 - accuracy: 0.9995\n",
      "Epoch 28/100\n",
      "227845/227845 [==============================] - 11s 50us/step - loss: 0.0021 - accuracy: 0.9995\n",
      "Epoch 29/100\n",
      "227845/227845 [==============================] - 11s 49us/step - loss: 0.0022 - accuracy: 0.9995\n",
      "Epoch 30/100\n",
      "227845/227845 [==============================] - 12s 51us/step - loss: 0.0021 - accuracy: 0.9995\n",
      "Epoch 31/100\n",
      "227845/227845 [==============================] - 11s 47us/step - loss: 0.0021 - accuracy: 0.9995\n",
      "Epoch 32/100\n",
      "227845/227845 [==============================] - 12s 52us/step - loss: 0.0021 - accuracy: 0.9995\n",
      "Epoch 33/100\n",
      "227845/227845 [==============================] - 11s 48us/step - loss: 0.0021 - accuracy: 0.9995\n",
      "Epoch 34/100\n",
      "227845/227845 [==============================] - 11s 49us/step - loss: 0.0020 - accuracy: 0.9995\n",
      "Epoch 35/100\n",
      "227845/227845 [==============================] - 11s 46us/step - loss: 0.0021 - accuracy: 0.9995\n",
      "Epoch 36/100\n",
      "227845/227845 [==============================] - 11s 47us/step - loss: 0.0021 - accuracy: 0.9995\n",
      "Epoch 37/100\n",
      "227845/227845 [==============================] - 11s 48us/step - loss: 0.0021 - accuracy: 0.9995\n",
      "Epoch 38/100\n",
      "227845/227845 [==============================] - 11s 48us/step - loss: 0.0020 - accuracy: 0.9995\n",
      "Epoch 39/100\n",
      "227845/227845 [==============================] - 11s 49us/step - loss: 0.0020 - accuracy: 0.9995\n",
      "Epoch 40/100\n",
      "227845/227845 [==============================] - 11s 47us/step - loss: 0.0020 - accuracy: 0.9995\n",
      "Epoch 41/100\n",
      "227845/227845 [==============================] - 11s 48us/step - loss: 0.0020 - accuracy: 0.9995\n",
      "Epoch 42/100\n",
      "227845/227845 [==============================] - 11s 48us/step - loss: 0.0020 - accuracy: 0.9995\n",
      "Epoch 43/100\n",
      "227845/227845 [==============================] - 10s 45us/step - loss: 0.0020 - accuracy: 0.9995\n",
      "Epoch 44/100\n",
      "227845/227845 [==============================] - 11s 47us/step - loss: 0.0020 - accuracy: 0.9995\n",
      "Epoch 45/100\n",
      "227845/227845 [==============================] - 11s 48us/step - loss: 0.0020 - accuracy: 0.9995\n",
      "Epoch 46/100\n",
      "227845/227845 [==============================] - 11s 47us/step - loss: 0.0020 - accuracy: 0.9995\n",
      "Epoch 47/100\n",
      "227845/227845 [==============================] - 11s 46us/step - loss: 0.0020 - accuracy: 0.9995\n",
      "Epoch 48/100\n",
      "227845/227845 [==============================] - 10s 46us/step - loss: 0.0019 - accuracy: 0.9995\n",
      "Epoch 49/100\n",
      "227845/227845 [==============================] - 11s 48us/step - loss: 0.0020 - accuracy: 0.9995\n",
      "Epoch 50/100\n",
      "227845/227845 [==============================] - 11s 47us/step - loss: 0.0020 - accuracy: 0.9995\n",
      "Epoch 51/100\n",
      "227845/227845 [==============================] - 10s 44us/step - loss: 0.0020 - accuracy: 0.9995\n",
      "Epoch 52/100\n",
      "227845/227845 [==============================] - 11s 47us/step - loss: 0.0019 - accuracy: 0.9995\n",
      "Epoch 53/100\n",
      "227845/227845 [==============================] - 11s 46us/step - loss: 0.0020 - accuracy: 0.9995\n",
      "Epoch 54/100\n",
      "227845/227845 [==============================] - 11s 46us/step - loss: 0.0020 - accuracy: 0.9995\n",
      "Epoch 55/100\n",
      "227845/227845 [==============================] - 11s 49us/step - loss: 0.0019 - accuracy: 0.9996\n",
      "Epoch 56/100\n",
      "227845/227845 [==============================] - 11s 46us/step - loss: 0.0019 - accuracy: 0.9995\n",
      "Epoch 57/100\n",
      "227845/227845 [==============================] - 10s 46us/step - loss: 0.0020 - accuracy: 0.9995\n",
      "Epoch 58/100\n",
      "227845/227845 [==============================] - 10s 46us/step - loss: 0.0019 - accuracy: 0.9995\n",
      "Epoch 59/100\n",
      "227845/227845 [==============================] - 11s 47us/step - loss: 0.0020 - accuracy: 0.9995\n",
      "Epoch 60/100\n",
      "227845/227845 [==============================] - 10s 46us/step - loss: 0.0019 - accuracy: 0.9995\n",
      "Epoch 61/100\n",
      "227845/227845 [==============================] - 10s 46us/step - loss: 0.0019 - accuracy: 0.9996\n",
      "Epoch 62/100\n",
      "227845/227845 [==============================] - 10s 46us/step - loss: 0.0019 - accuracy: 0.9995\n",
      "Epoch 63/100\n",
      "227845/227845 [==============================] - 11s 46us/step - loss: 0.0019 - accuracy: 0.9995\n",
      "Epoch 64/100\n",
      "227845/227845 [==============================] - 11s 47us/step - loss: 0.0019 - accuracy: 0.9995\n",
      "Epoch 65/100\n",
      "227845/227845 [==============================] - 10s 46us/step - loss: 0.0019 - accuracy: 0.9995\n",
      "Epoch 66/100\n",
      "227845/227845 [==============================] - 11s 46us/step - loss: 0.0019 - accuracy: 0.9995\n",
      "Epoch 67/100\n",
      "227845/227845 [==============================] - 11s 47us/step - loss: 0.0019 - accuracy: 0.9995\n",
      "Epoch 68/100\n",
      "227845/227845 [==============================] - 11s 48us/step - loss: 0.0019 - accuracy: 0.9995\n",
      "Epoch 69/100\n",
      "227845/227845 [==============================] - 11s 47us/step - loss: 0.0019 - accuracy: 0.9995\n",
      "Epoch 70/100\n",
      "227845/227845 [==============================] - 10s 46us/step - loss: 0.0019 - accuracy: 0.9995\n",
      "Epoch 71/100\n",
      "227845/227845 [==============================] - 11s 46us/step - loss: 0.0019 - accuracy: 0.9996\n",
      "Epoch 72/100\n",
      "227845/227845 [==============================] - 11s 47us/step - loss: 0.0019 - accuracy: 0.9996\n",
      "Epoch 73/100\n",
      "227845/227845 [==============================] - 11s 47us/step - loss: 0.0019 - accuracy: 0.9995\n",
      "Epoch 74/100\n",
      "227845/227845 [==============================] - 11s 47us/step - loss: 0.0019 - accuracy: 0.9996\n",
      "Epoch 75/100\n",
      "227845/227845 [==============================] - 11s 49us/step - loss: 0.0019 - accuracy: 0.9996\n",
      "Epoch 76/100\n",
      "227845/227845 [==============================] - 11s 49us/step - loss: 0.0019 - accuracy: 0.9995\n",
      "Epoch 77/100\n",
      "227845/227845 [==============================] - 12s 51us/step - loss: 0.0018 - accuracy: 0.9995\n",
      "Epoch 78/100\n",
      "227845/227845 [==============================] - 11s 48us/step - loss: 0.0018 - accuracy: 0.9995\n",
      "Epoch 79/100\n",
      "227845/227845 [==============================] - 11s 47us/step - loss: 0.0019 - accuracy: 0.9995\n",
      "Epoch 80/100\n",
      "227845/227845 [==============================] - 11s 50us/step - loss: 0.0018 - accuracy: 0.9996\n",
      "Epoch 81/100\n",
      "227845/227845 [==============================] - 12s 55us/step - loss: 0.0018 - accuracy: 0.9996\n",
      "Epoch 82/100\n",
      "227845/227845 [==============================] - 12s 55us/step - loss: 0.0018 - accuracy: 0.9995\n",
      "Epoch 83/100\n",
      "227845/227845 [==============================] - 12s 53us/step - loss: 0.0018 - accuracy: 0.9996\n",
      "Epoch 84/100\n",
      "227845/227845 [==============================] - 13s 56us/step - loss: 0.0018 - accuracy: 0.9996\n",
      "Epoch 85/100\n",
      "227845/227845 [==============================] - 12s 53us/step - loss: 0.0018 - accuracy: 0.9995\n",
      "Epoch 86/100\n",
      "227845/227845 [==============================] - 11s 50us/step - loss: 0.0018 - accuracy: 0.9995\n",
      "Epoch 87/100\n",
      "227845/227845 [==============================] - 11s 49us/step - loss: 0.0018 - accuracy: 0.9996\n",
      "Epoch 88/100\n",
      "227845/227845 [==============================] - 12s 52us/step - loss: 0.0018 - accuracy: 0.9996\n",
      "Epoch 89/100\n",
      "227845/227845 [==============================] - 10s 46us/step - loss: 0.0018 - accuracy: 0.9996\n",
      "Epoch 90/100\n",
      "227845/227845 [==============================] - 11s 46us/step - loss: 0.0018 - accuracy: 0.9995\n",
      "Epoch 91/100\n",
      "227845/227845 [==============================] - 10s 45us/step - loss: 0.0018 - accuracy: 0.9996\n",
      "Epoch 92/100\n",
      "227845/227845 [==============================] - 11s 48us/step - loss: 0.0018 - accuracy: 0.9996\n",
      "Epoch 93/100\n",
      "227845/227845 [==============================] - 12s 53us/step - loss: 0.0018 - accuracy: 0.9996\n",
      "Epoch 94/100\n",
      "227845/227845 [==============================] - 12s 53us/step - loss: 0.0017 - accuracy: 0.9996\n",
      "Epoch 95/100\n",
      "227845/227845 [==============================] - 12s 52us/step - loss: 0.0018 - accuracy: 0.9996\n",
      "Epoch 96/100\n",
      "227845/227845 [==============================] - 12s 51us/step - loss: 0.0017 - accuracy: 0.9996\n",
      "Epoch 97/100\n",
      "227845/227845 [==============================] - 12s 51us/step - loss: 0.0018 - accuracy: 0.9996\n",
      "Epoch 98/100\n",
      "227845/227845 [==============================] - 12s 52us/step - loss: 0.0018 - accuracy: 0.9995\n",
      "Epoch 99/100\n",
      "227845/227845 [==============================] - 12s 51us/step - loss: 0.0017 - accuracy: 0.9996\n",
      "Epoch 100/100\n",
      "227845/227845 [==============================] - 11s 49us/step - loss: 0.0018 - accuracy: 0.9996\n"
     ]
    },
    {
     "data": {
      "text/plain": [
       "<keras.callbacks.callbacks.History at 0x24fbf86c6d8>"
      ]
     },
     "execution_count": 42,
     "metadata": {},
     "output_type": "execute_result"
    }
   ],
   "source": [
    "# Initialising the ANN\n",
    "classifier = Sequential()\n",
    "# Adding the input layer and the first hidden layer\n",
    "classifier.add(Dense(output_dim = 15, init = 'uniform', \n",
    "                     activation = 'relu', input_dim = 30))\n",
    "# Adding the second hidden layer\n",
    "classifier.add(Dense(output_dim = 15, init = 'uniform', activation = 'relu'))\n",
    "# Adding the output layer\n",
    "classifier.add(Dense(output_dim = 1, init = 'uniform', activation = 'sigmoid'))\n",
    "# Compiling the ANN\n",
    "classifier.compile(optimizer = 'adam', loss = 'binary_crossentropy', \n",
    "                   metrics = ['accuracy'])\n",
    "# Fitting the ANN to the Training set\n",
    "classifier.fit(X_train, y_train, batch_size = 32, nb_epoch = 100)"
   ]
  },
  {
   "cell_type": "code",
   "execution_count": 43,
   "metadata": {},
   "outputs": [],
   "source": [
    "# Predicting the Test set results\n",
    "y_pred = classifier.predict(X_test)\n",
    "y_pred = (y_pred > 0.5)"
   ]
  },
  {
   "cell_type": "code",
   "execution_count": 44,
   "metadata": {},
   "outputs": [],
   "source": [
    "acc = accuracy_score(y_test, y_pred)\n",
    "prec = precision_score(y_test, y_pred)\n",
    "rec = recall_score(y_test, y_pred)\n",
    "f1 = f1_score(y_test, y_pred)"
   ]
  },
  {
   "cell_type": "code",
   "execution_count": 45,
   "metadata": {},
   "outputs": [
    {
     "name": "stdout",
     "output_type": "stream",
     "text": [
      "              precision    recall  f1-score   support\n",
      "\n",
      "           0       1.00      1.00      1.00     56861\n",
      "           1       0.86      0.81      0.84       101\n",
      "\n",
      "    accuracy                           1.00     56962\n",
      "   macro avg       0.93      0.91      0.92     56962\n",
      "weighted avg       1.00      1.00      1.00     56962\n",
      "\n"
     ]
    }
   ],
   "source": [
    "print(classification_report(y_test, y_pred))"
   ]
  },
  {
   "cell_type": "code",
   "execution_count": 46,
   "metadata": {},
   "outputs": [],
   "source": [
    "result3= pd.DataFrame([['ANN',acc,prec,rec,f1]],\n",
    "                        columns=['Model','Accuracy score','Precision Score',\n",
    "                                 'Recall score','F1 score'])"
   ]
  },
  {
   "cell_type": "code",
   "execution_count": 47,
   "metadata": {},
   "outputs": [],
   "source": [
    "results=results.append(result3,ignore_index=True)"
   ]
  },
  {
   "cell_type": "code",
   "execution_count": 49,
   "metadata": {},
   "outputs": [
    {
     "name": "stdout",
     "output_type": "stream",
     "text": [
      "Evaluation Results of all models:\n",
      "            Model  Accuracy score  Precision Score  Recall score  F1 score\n",
      "0  Random Forest        0.999526         0.930233      0.792079  0.855615\n",
      "1        XGBoost        0.999456         0.888889      0.792079  0.837696\n",
      "2            ANN        0.999438         0.863158      0.811881  0.836735\n"
     ]
    }
   ],
   "source": [
    "print('Evaluation Results of all models:\\n',results)"
   ]
  },
  {
   "cell_type": "markdown",
   "metadata": {},
   "source": [
    "Hence, **Random Forest** is the most accurate model for having highest *Accuracy score* and *F1 score*."
   ]
  }
 ],
 "metadata": {
  "kernelspec": {
   "display_name": "Python 3",
   "language": "python",
   "name": "python3"
  },
  "language_info": {
   "codemirror_mode": {
    "name": "ipython",
    "version": 3
   },
   "file_extension": ".py",
   "mimetype": "text/x-python",
   "name": "python",
   "nbconvert_exporter": "python",
   "pygments_lexer": "ipython3",
   "version": "3.7.1"
  }
 },
 "nbformat": 4,
 "nbformat_minor": 2
}
